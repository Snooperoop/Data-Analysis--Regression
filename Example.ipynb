{
 "cells": [
  {
   "cell_type": "code",
   "execution_count": 1,
   "id": "b58cbd2c",
   "metadata": {},
   "outputs": [
    {
     "data": {
      "text/html": [
       "<div>\n",
       "<style scoped>\n",
       "    .dataframe tbody tr th:only-of-type {\n",
       "        vertical-align: middle;\n",
       "    }\n",
       "\n",
       "    .dataframe tbody tr th {\n",
       "        vertical-align: top;\n",
       "    }\n",
       "\n",
       "    .dataframe thead th {\n",
       "        text-align: right;\n",
       "    }\n",
       "</style>\n",
       "<table border=\"1\" class=\"dataframe\">\n",
       "  <thead>\n",
       "    <tr style=\"text-align: right;\">\n",
       "      <th></th>\n",
       "      <th>Hours Studied</th>\n",
       "      <th>Previous Scores</th>\n",
       "      <th>Sleep Hours</th>\n",
       "      <th>Sample Question Papers Practiced</th>\n",
       "      <th>Performance Index</th>\n",
       "      <th>Extracurricular Activities_No</th>\n",
       "      <th>Extracurricular Activities_Yes</th>\n",
       "    </tr>\n",
       "  </thead>\n",
       "  <tbody>\n",
       "    <tr>\n",
       "      <th>0</th>\n",
       "      <td>0.777778</td>\n",
       "      <td>1.000000</td>\n",
       "      <td>1.000000</td>\n",
       "      <td>0.111111</td>\n",
       "      <td>0.91</td>\n",
       "      <td>False</td>\n",
       "      <td>True</td>\n",
       "    </tr>\n",
       "    <tr>\n",
       "      <th>1</th>\n",
       "      <td>0.444444</td>\n",
       "      <td>0.828283</td>\n",
       "      <td>0.444444</td>\n",
       "      <td>0.222222</td>\n",
       "      <td>0.65</td>\n",
       "      <td>True</td>\n",
       "      <td>False</td>\n",
       "    </tr>\n",
       "    <tr>\n",
       "      <th>2</th>\n",
       "      <td>0.888889</td>\n",
       "      <td>0.515152</td>\n",
       "      <td>0.777778</td>\n",
       "      <td>0.222222</td>\n",
       "      <td>0.45</td>\n",
       "      <td>False</td>\n",
       "      <td>True</td>\n",
       "    </tr>\n",
       "    <tr>\n",
       "      <th>3</th>\n",
       "      <td>0.555556</td>\n",
       "      <td>0.525253</td>\n",
       "      <td>0.555556</td>\n",
       "      <td>0.222222</td>\n",
       "      <td>0.36</td>\n",
       "      <td>False</td>\n",
       "      <td>True</td>\n",
       "    </tr>\n",
       "    <tr>\n",
       "      <th>4</th>\n",
       "      <td>0.777778</td>\n",
       "      <td>0.757576</td>\n",
       "      <td>0.888889</td>\n",
       "      <td>0.555556</td>\n",
       "      <td>0.66</td>\n",
       "      <td>True</td>\n",
       "      <td>False</td>\n",
       "    </tr>\n",
       "  </tbody>\n",
       "</table>\n",
       "</div>"
      ],
      "text/plain": [
       "   Hours Studied  Previous Scores  Sleep Hours  \\\n",
       "0       0.777778         1.000000     1.000000   \n",
       "1       0.444444         0.828283     0.444444   \n",
       "2       0.888889         0.515152     0.777778   \n",
       "3       0.555556         0.525253     0.555556   \n",
       "4       0.777778         0.757576     0.888889   \n",
       "\n",
       "   Sample Question Papers Practiced  Performance Index  \\\n",
       "0                          0.111111               0.91   \n",
       "1                          0.222222               0.65   \n",
       "2                          0.222222               0.45   \n",
       "3                          0.222222               0.36   \n",
       "4                          0.555556               0.66   \n",
       "\n",
       "   Extracurricular Activities_No  Extracurricular Activities_Yes  \n",
       "0                          False                            True  \n",
       "1                           True                           False  \n",
       "2                          False                            True  \n",
       "3                          False                            True  \n",
       "4                           True                           False  "
      ]
     },
     "execution_count": 1,
     "metadata": {},
     "output_type": "execute_result"
    }
   ],
   "source": [
    "import matplotlib.pyplot as plot\n",
    "import pandas as pd\n",
    "import Regressions\n",
    "\n",
    "# Import data_frame, with columns I want\n",
    "df = pd.read_csv('Student_Performance.csv')\n",
    "df = pd.get_dummies(df)\n",
    "\n",
    "# Normalize the data\n",
    "HS_Max = df['Hours Studied'].max()\n",
    "PI_Max = df['Performance Index'].max()\n",
    "PS_Max = df['Previous Scores'].max()\n",
    "SQPP_Max = df['Sample Question Papers Practiced'].max()\n",
    "SH_Max = df['Sleep Hours'].max()\n",
    "\n",
    "\n",
    "df['Performance Index'] /= PI_Max\n",
    "df['Hours Studied'] /= HS_Max\n",
    "df['Previous Scores'] /= PS_Max\n",
    "df['Sample Question Papers Practiced'] /= SQPP_Max\n",
    "df['Sleep Hours'] /= SH_Max\n",
    "\n",
    "# Trim Data so its reaedy for later\n",
    "ratio = 0.75\n",
    "split = int(ratio * len(df))\n",
    "testing_df = df[split:]\n",
    "learning_df = df[:split]\n",
    "df.head()\n"
   ]
  },
  {
   "cell_type": "code",
   "execution_count": 2,
   "id": "154abf06",
   "metadata": {},
   "outputs": [
    {
     "data": {
      "text/plain": [
       "<matplotlib.collections.PathCollection at 0x117b0bca0>"
      ]
     },
     "execution_count": 2,
     "metadata": {},
     "output_type": "execute_result"
    },
    {
     "data": {
      "image/png": "[encoded data removed]",
      "text/plain": [
       "<Figure size 640x480 with 1 Axes>"
      ]
     },
     "metadata": {},
     "output_type": "display_data"
    }
   ],
   "source": [
    "plot.scatter(df['Previous Scores'], df['Performance Index'], s=0.010)"
   ]
  },
  {
   "cell_type": "code",
   "execution_count": 3,
   "id": "3d73fce5",
   "metadata": {},
   "outputs": [
    {
     "name": "stdout",
     "output_type": "stream",
     "text": [
      "Accuracy: 0.7984770495533151\n"
     ]
    }
   ],
   "source": [
    "'''Linear Regression'''\n",
    "single_Feature_model = Regressions.Linear_Model(['Previous Scores'],'Performance Index')\n",
    "single_Feature_model.Train_Model(learning_df, 500, 0.01)\n",
    "print('Accuracy: ' + str(single_Feature_model.Test_Model(testing_df)))"
   ]
  },
  {
   "cell_type": "code",
   "execution_count": 4,
   "id": "4bbf40c5",
   "metadata": {},
   "outputs": [
    {
     "name": "stdout",
     "output_type": "stream",
     "text": [
      "Accuracy: 0.772962919128114\n"
     ]
    }
   ],
   "source": [
    "\n",
    "'''Multiple Regression'''\n",
    "multiple_Feature_Model = Regressions.Linear_Model(['Previous Scores', 'Sample Question Papers Practiced', 'Extracurricular Activities_No', 'Extracurricular Activities_Yes'], 'Performance Index')\n",
    "multiple_Feature_Model.Train_Model(learning_df, 250, 0.1)\n",
    "print('Accuracy: ' + str(multiple_Feature_Model.Test_Model(testing_df)))"
   ]
  },
  {
   "cell_type": "code",
   "execution_count": 6,
   "id": "646d2b71",
   "metadata": {},
   "outputs": [
    {
     "name": "stdout",
     "output_type": "stream",
     "text": [
      "Prediction:  0.6361722492219306\n"
     ]
    }
   ],
   "source": [
    "print( \"Prediction:  \" +  str(single_Feature_model.Predict([0.80])) )\n"
   ]
  }
 ],
 "metadata": {
  "kernelspec": {
   "display_name": ".venv",
   "language": "python",
   "name": "python3"
  },
  "language_info": {
   "codemirror_mode": {
    "name": "ipython",
    "version": 3
   },
   "file_extension": ".py",
   "mimetype": "text/x-python",
   "name": "python",
   "nbconvert_exporter": "python",
   "pygments_lexer": "ipython3",
   "version": "3.9.6"
  }
 },
 "nbformat": 4,
 "nbformat_minor": 5
}
